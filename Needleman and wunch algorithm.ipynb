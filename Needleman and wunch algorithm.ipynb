{
 "cells": [
  {
   "cell_type": "code",
   "execution_count": 39,
   "metadata": {
    "collapsed": true
   },
   "outputs": [],
   "source": [
    "import numpy as np\n",
    "seq1='ACAGTAG'\n",
    "seq2='ACTCG'"
   ]
  },
  {
   "cell_type": "code",
   "execution_count": 40,
   "metadata": {
    "collapsed": true
   },
   "outputs": [],
   "source": [
    "matrix=np.zeros((len(seq1)+1,len(seq2)+1))"
   ]
  },
  {
   "cell_type": "code",
   "execution_count": 41,
   "metadata": {},
   "outputs": [
    {
     "data": {
      "text/plain": [
       "array([[0., 0., 0., 0., 0., 0.],\n",
       "       [0., 0., 0., 0., 0., 0.],\n",
       "       [0., 0., 0., 0., 0., 0.],\n",
       "       [0., 0., 0., 0., 0., 0.],\n",
       "       [0., 0., 0., 0., 0., 0.],\n",
       "       [0., 0., 0., 0., 0., 0.],\n",
       "       [0., 0., 0., 0., 0., 0.],\n",
       "       [0., 0., 0., 0., 0., 0.]])"
      ]
     },
     "execution_count": 41,
     "metadata": {},
     "output_type": "execute_result"
    }
   ],
   "source": [
    "matrix"
   ]
  },
  {
   "cell_type": "markdown",
   "metadata": {},
   "source": [
    "# Similarity matrix"
   ]
  },
  {
   "cell_type": "code",
   "execution_count": 42,
   "metadata": {},
   "outputs": [
    {
     "data": {
      "text/plain": [
       "array([[1., 0., 0., 0., 0.],\n",
       "       [0., 1., 0., 1., 0.],\n",
       "       [1., 0., 0., 0., 0.],\n",
       "       [0., 0., 0., 0., 1.],\n",
       "       [0., 0., 1., 0., 0.],\n",
       "       [1., 0., 0., 0., 0.],\n",
       "       [0., 0., 0., 0., 1.]])"
      ]
     },
     "execution_count": 42,
     "metadata": {},
     "output_type": "execute_result"
    }
   ],
   "source": [
    "s_matrix=np.zeros((len(seq1),len(seq2)))\n",
    "for i in range(len(seq1)):\n",
    "    for j in range(len(seq2)):\n",
    "        if seq1[i]==seq2[j]:\n",
    "            s_matrix[i][j]=1\n",
    "        else:     \n",
    "            s_matrix[i][j]=0\n",
    "s_matrix"
   ]
  },
  {
   "cell_type": "code",
   "execution_count": 43,
   "metadata": {
    "collapsed": true
   },
   "outputs": [],
   "source": [
    "match_score=1\n",
    "mismatch_score=0\n",
    "gap_penalty=-1"
   ]
  },
  {
   "cell_type": "code",
   "execution_count": 44,
   "metadata": {
    "collapsed": true
   },
   "outputs": [],
   "source": [
    "def NW_matrix(matrix):\n",
    "   for i in range(len(seq1)+1):\n",
    "       matrix[i][0]=i*gap_penalty\n",
    "   for j in range(len(seq2)+1):\n",
    "       matrix[0][j]=j*gap_penalty\n",
    "   for i in range(1,len(seq1)+1):\n",
    "       for j in range(1,len(seq2)+1):\n",
    "                matrix[i][j]=max(matrix[i-1][j-1]+s_matrix[i-1][j-1],matrix[i-1][j]+gap_penalty,matrix[i][j-1]+gap_penalty)\n",
    "\n",
    "   return(matrix)"
   ]
  },
  {
   "cell_type": "code",
   "execution_count": 45,
   "metadata": {},
   "outputs": [
    {
     "data": {
      "text/plain": [
       "array([[ 0., -1., -2., -3., -4., -5.],\n",
       "       [-1.,  1.,  0., -1., -2., -3.],\n",
       "       [-2.,  0.,  2.,  1.,  0., -1.],\n",
       "       [-3., -1.,  1.,  2.,  1.,  0.],\n",
       "       [-4., -2.,  0.,  1.,  2.,  2.],\n",
       "       [-5., -3., -1.,  1.,  1.,  2.],\n",
       "       [-6., -4., -2.,  0.,  1.,  1.],\n",
       "       [-7., -5., -3., -1.,  0.,  2.]])"
      ]
     },
     "execution_count": 45,
     "metadata": {},
     "output_type": "execute_result"
    }
   ],
   "source": [
    "NW_matrix(matrix)"
   ]
  },
  {
   "cell_type": "code",
   "execution_count": 36,
   "metadata": {
    "collapsed": true
   },
   "outputs": [],
   "source": [
    "AlignmentA=\"\"\n",
    "AlignmentB=\"\"\n",
    "i=len(seq1)\n",
    "j=len(seq2)\n",
    "while (i >0 or j >0):\n",
    "\n",
    "  if (i > 0 and j > 0 and matrix[i][j] == matrix[i-1][j-1] + s_matrix[i-1][j-1]):\n",
    "  \n",
    "    AlignmentA=seq1[i-1] + AlignmentA\n",
    "    AlignmentB=seq2[j-1] + AlignmentB\n",
    "    i=i - 1\n",
    "    j=j - 1\n",
    "\n",
    "  elif (i > 0 and matrix[i][j] == matrix[i-1][j] + gap_penalty):\n",
    "  \n",
    "    AlignmentA=seq1[i-1] + AlignmentA\n",
    "    AlignmentB=\"-\" + AlignmentB\n",
    "    i=i - 1\n",
    "  \n",
    "  else:\n",
    "  \n",
    "    AlignmentA=\"-\" + AlignmentA\n",
    "    AlignmentB=seq2[j-1] + AlignmentB\n",
    "    j=j - 1\n"
   ]
  },
  {
   "cell_type": "code",
   "execution_count": null,
   "metadata": {
    "collapsed": true
   },
   "outputs": [],
   "source": []
  },
  {
   "cell_type": "code",
   "execution_count": 37,
   "metadata": {},
   "outputs": [
    {
     "data": {
      "text/plain": [
       "'ACAGTAG'"
      ]
     },
     "execution_count": 37,
     "metadata": {},
     "output_type": "execute_result"
    }
   ],
   "source": [
    "AlignmentA"
   ]
  },
  {
   "cell_type": "code",
   "execution_count": 38,
   "metadata": {},
   "outputs": [
    {
     "data": {
      "text/plain": [
       "'AC--TCG'"
      ]
     },
     "execution_count": 38,
     "metadata": {},
     "output_type": "execute_result"
    }
   ],
   "source": [
    "AlignmentB"
   ]
  },
  {
   "cell_type": "code",
   "execution_count": null,
   "metadata": {
    "collapsed": true
   },
   "outputs": [],
   "source": []
  },
  {
   "cell_type": "code",
   "execution_count": null,
   "metadata": {
    "collapsed": true
   },
   "outputs": [],
   "source": []
  }
 ],
 "metadata": {
  "kernelspec": {
   "display_name": "Python 3",
   "language": "python",
   "name": "python3"
  },
  "language_info": {
   "codemirror_mode": {
    "name": "ipython",
    "version": 3
   },
   "file_extension": ".py",
   "mimetype": "text/x-python",
   "name": "python",
   "nbconvert_exporter": "python",
   "pygments_lexer": "ipython3",
   "version": "3.6.9"
  }
 },
 "nbformat": 4,
 "nbformat_minor": 2
}
