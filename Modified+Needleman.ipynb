{
 "cells": [
  {
   "cell_type": "code",
   "execution_count": 55,
   "metadata": {
    "collapsed": true
   },
   "outputs": [],
   "source": [
    "import numpy as np\n",
    "seq1='ACACTG'\n",
    "seq2='ACACTGATCG'"
   ]
  },
  {
   "cell_type": "code",
   "execution_count": 56,
   "metadata": {
    "collapsed": true
   },
   "outputs": [],
   "source": [
    "matrix=np.zeros((len(seq1)+1,len(seq2)+1))"
   ]
  },
  {
   "cell_type": "markdown",
   "metadata": {},
   "source": [
    "# Similarity matrix"
   ]
  },
  {
   "cell_type": "code",
   "execution_count": 57,
   "metadata": {},
   "outputs": [
    {
     "data": {
      "text/plain": [
       "array([[ 1., -1.,  1., -1., -1., -1.,  1., -1., -1., -1.],\n",
       "       [-1.,  1., -1.,  1., -1., -1., -1., -1.,  1., -1.],\n",
       "       [ 1., -1.,  1., -1., -1., -1.,  1., -1., -1., -1.],\n",
       "       [-1.,  1., -1.,  1., -1., -1., -1., -1.,  1., -1.],\n",
       "       [-1., -1., -1., -1.,  1., -1., -1.,  1., -1., -1.],\n",
       "       [-1., -1., -1., -1., -1.,  1., -1., -1., -1.,  1.]])"
      ]
     },
     "execution_count": 57,
     "metadata": {},
     "output_type": "execute_result"
    }
   ],
   "source": [
    "s_matrix=np.zeros((len(seq1),len(seq2)))\n",
    "for i in range(len(seq1)):\n",
    "    for j in range(len(seq2)):\n",
    "        if seq1[i]==seq2[j]:\n",
    "            s_matrix[i][j]=1\n",
    "        else:     \n",
    "            s_matrix[i][j]=-1\n",
    "s_matrix"
   ]
  },
  {
   "cell_type": "code",
   "execution_count": 58,
   "metadata": {
    "collapsed": true
   },
   "outputs": [],
   "source": [
    "match_score=1\n",
    "mismatch_score=0\n",
    "gap_penalty=-1"
   ]
  },
  {
   "cell_type": "code",
   "execution_count": 59,
   "metadata": {
    "collapsed": true
   },
   "outputs": [],
   "source": [
    "def modified(matrix):\n",
    "   for i in range(1,len(seq1)+1):\n",
    "       for j in range(1,len(seq2)+1):\n",
    "                if (i==len(seq1)):\n",
    "                    matrix[i][j]=max(matrix[i-1][j-1]+s_matrix[i-1][j-1],matrix[i-1][j]+gap_penalty,matrix[i][j-1])\n",
    "                elif (j==len(seq2)):\n",
    "                    matrix[i][j]=max(matrix[i-1][j-1]+s_matrix[i-1][j-1],matrix[i-1][j],matrix[i][j-1]+gap_penalty)\n",
    "                else:\n",
    "                    matrix[i][j]=max(matrix[i-1][j-1]+s_matrix[i-1][j-1],matrix[i-1][j]+gap_penalty,matrix[i][j-1]+gap_penalty)\n",
    "   return(matrix)"
   ]
  },
  {
   "cell_type": "markdown",
   "metadata": {},
   "source": [
    "# Matrix"
   ]
  },
  {
   "cell_type": "code",
   "execution_count": 60,
   "metadata": {},
   "outputs": [
    {
     "data": {
      "text/plain": [
       "array([[ 0.,  0.,  0.,  0.,  0.,  0.,  0.,  0.,  0.,  0.,  0.],\n",
       "       [ 0.,  1.,  0.,  1.,  0., -1., -1.,  1.,  0., -1.,  0.],\n",
       "       [ 0.,  0.,  2.,  1.,  2.,  1.,  0.,  0.,  0.,  1.,  0.],\n",
       "       [ 0.,  1.,  1.,  3.,  2.,  1.,  0.,  1.,  0.,  0.,  0.],\n",
       "       [ 0.,  0.,  2.,  2.,  4.,  3.,  2.,  1.,  0.,  1.,  0.],\n",
       "       [ 0., -1.,  1.,  1.,  3.,  5.,  4.,  3.,  2.,  1.,  0.],\n",
       "       [ 0.,  0.,  0.,  0.,  2.,  4.,  6.,  6.,  6.,  6.,  6.]])"
      ]
     },
     "execution_count": 60,
     "metadata": {},
     "output_type": "execute_result"
    }
   ],
   "source": [
    "modified(matrix)"
   ]
  },
  {
   "cell_type": "code",
   "execution_count": 61,
   "metadata": {
    "collapsed": true
   },
   "outputs": [],
   "source": [
    "AlignmentA=\"\"\n",
    "AlignmentB=\"\"\n",
    "i=len(seq1)\n",
    "j=len(seq2)\n",
    "while (i >0 or j >0):\n",
    "\n",
    "  if (i > 0 and j > 0 and matrix[i][j] == matrix[i-1][j-1] + s_matrix[i-1][j-1]):\n",
    "  \n",
    "    AlignmentA=seq1[i-1] + AlignmentA\n",
    "    AlignmentB=seq2[j-1] + AlignmentB\n",
    "    i=i - 1\n",
    "    j=j - 1\n",
    "\n",
    "  elif (i > 0 and matrix[i][j] == matrix[i-1][j] + gap_penalty):\n",
    "  \n",
    "    AlignmentA=seq1[i-1] + AlignmentA\n",
    "    AlignmentB=\"-\" + AlignmentB\n",
    "    i=i - 1\n",
    "  \n",
    "  else:\n",
    "  \n",
    "    AlignmentA=\"-\" + AlignmentA\n",
    "    AlignmentB=seq2[j-1] + AlignmentB\n",
    "    j=j - 1\n"
   ]
  },
  {
   "cell_type": "code",
   "execution_count": 62,
   "metadata": {},
   "outputs": [
    {
     "data": {
      "text/plain": [
       "'ACACTG----'"
      ]
     },
     "execution_count": 62,
     "metadata": {},
     "output_type": "execute_result"
    }
   ],
   "source": [
    "AlignmentA"
   ]
  },
  {
   "cell_type": "code",
   "execution_count": 63,
   "metadata": {},
   "outputs": [
    {
     "data": {
      "text/plain": [
       "'ACACTGATCG'"
      ]
     },
     "execution_count": 63,
     "metadata": {},
     "output_type": "execute_result"
    }
   ],
   "source": [
    "AlignmentB"
   ]
  },
  {
   "cell_type": "code",
   "execution_count": null,
   "metadata": {
    "collapsed": true
   },
   "outputs": [],
   "source": []
  },
  {
   "cell_type": "code",
   "execution_count": null,
   "metadata": {
    "collapsed": true
   },
   "outputs": [],
   "source": []
  }
 ],
 "metadata": {
  "kernelspec": {
   "display_name": "Python 3",
   "language": "python",
   "name": "python3"
  },
  "language_info": {
   "codemirror_mode": {
    "name": "ipython",
    "version": 3
   },
   "file_extension": ".py",
   "mimetype": "text/x-python",
   "name": "python",
   "nbconvert_exporter": "python",
   "pygments_lexer": "ipython3",
   "version": "3.6.9"
  }
 },
 "nbformat": 4,
 "nbformat_minor": 2
}
